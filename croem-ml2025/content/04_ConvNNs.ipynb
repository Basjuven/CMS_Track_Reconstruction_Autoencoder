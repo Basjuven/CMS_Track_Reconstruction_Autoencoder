{
  "cells": [
    {
      "cell_type": "markdown",
      "id": "5d0e3ce4",
      "metadata": {
        "id": "5d0e3ce4"
      },
      "source": [
        "# Convolutional Neural Networks\n",
        "\n",
        "[![Open in Colab](https://colab.research.google.com/assets/colab-badge.svg)](https://colab.research.google.com/github/roy-cruz/CROEM-ML2025/blob/master/croem-ml2025/content/04_ConvNNs.ipynb)"
      ]
    },
    {
      "cell_type": "markdown",
      "source": [],
      "metadata": {
        "id": "t25BMvC2fpGx"
      },
      "id": "t25BMvC2fpGx"
    }
  ],
  "metadata": {
    "language_info": {
      "name": "python"
    },
    "colab": {
      "provenance": []
    }
  },
  "nbformat": 4,
  "nbformat_minor": 5
}